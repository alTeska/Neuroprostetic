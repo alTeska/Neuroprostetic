{
 "cells": [
  {
   "cell_type": "markdown",
   "metadata": {},
   "source": [
    "# Exercise 5 - Multicompartment Hodgkin & Huxley Model"
   ]
  },
  {
   "cell_type": "code",
   "execution_count": 1,
   "metadata": {},
   "outputs": [],
   "source": [
    "import numpy as np\n",
    "import matplotlib.pyplot as plt\n",
    "import math\n",
    "\n",
    "from matplotlib import rcParams\n",
    "% matplotlib inline"
   ]
  },
  {
   "cell_type": "code",
   "execution_count": 2,
   "metadata": {},
   "outputs": [],
   "source": [
    "rcParams.update({'font.size': 22})"
   ]
  },
  {
   "cell_type": "markdown",
   "metadata": {},
   "source": [
    "## Equations"
   ]
  },
  {
   "cell_type": "markdown",
   "metadata": {},
   "source": [
    "### Constants"
   ]
  },
  {
   "cell_type": "code",
   "execution_count": 3,
   "metadata": {},
   "outputs": [],
   "source": [
    "C_m = 1 #membrane capacitance, in uF/cm^2\n",
    "\n",
    "g_Na = 120.0 #maximum conducances, in mS/cm^2\n",
    "g_K  = 36.0\n",
    "g_L  = 0.3\n",
    "\n",
    "V_Na = 115 #Nernst reversal potentials, in mV\n",
    "V_K  = -12\n",
    "V_L  = 10.6\n",
    "V_rest = -70\n"
   ]
  },
  {
   "cell_type": "code",
   "execution_count": 67,
   "metadata": {},
   "outputs": [],
   "source": [
    "g_axon = 0.1 \n",
    "r_axon = 2*10e-4\n",
    "l_comp = 0.1 * 10e-4"
   ]
  },
  {
   "cell_type": "code",
   "execution_count": 68,
   "metadata": {},
   "outputs": [
    {
     "data": {
      "text/plain": [
       "0.7957747154594769"
      ]
     },
     "execution_count": 68,
     "metadata": {},
     "output_type": "execute_result"
    }
   ],
   "source": [
    "Ra = g_axon * l_comp / (np.pi * r_axon**2)\n",
    "Ra"
   ]
  },
  {
   "cell_type": "markdown",
   "metadata": {},
   "source": [
    "### Rate equations V in mV:\n",
    "non-linear paramiters alfa and beta"
   ]
  },
  {
   "cell_type": "code",
   "execution_count": 4,
   "metadata": {},
   "outputs": [],
   "source": [
    "def alpha_m(u): return (2.5 - 0.1 * u) / (np.exp(2.5 - 0.1 * u) - 1)\n",
    "def alpha_n(u): return (0.1 - 0.01 * u) / (np.exp(1 - 0.1 * u ) - 1)\n",
    "def alpha_h(u): return (0.07 * np.exp(-u / 20))\n",
    "\n",
    "def beta_m(u):  return 4 * np.exp((-u) / 18)\n",
    "def beta_n(u):  return 0.125 * np.exp((-u) / 80)\n",
    "def beta_h(u):  return 1 / (np.exp(3 - 0.1 * u) + 1)"
   ]
  },
  {
   "cell_type": "markdown",
   "metadata": {},
   "source": [
    "### Temperature correction"
   ]
  },
  {
   "cell_type": "code",
   "execution_count": 5,
   "metadata": {},
   "outputs": [],
   "source": [
    "def temp_corr(T): return 3**(0.1*(T-6.3))  "
   ]
  },
  {
   "cell_type": "markdown",
   "metadata": {},
   "source": [
    "### Time constants\n",
    "τx(u)=[αx(u)+βx(u)] ^ −1"
   ]
  },
  {
   "cell_type": "code",
   "execution_count": 6,
   "metadata": {},
   "outputs": [],
   "source": [
    "def tau_m(u): return (alpha_m(u) + beta_m(u))**(-1)\n",
    "def tau_n(u): return (alpha_n(u) + beta_n(u))**(-1)\n",
    "def tau_h(u): return (alpha_h(u) + beta_h(u))**(-1)"
   ]
  },
  {
   "cell_type": "code",
   "execution_count": 7,
   "metadata": {},
   "outputs": [],
   "source": [
    "def m_ss(u): return alpha_m(u) / (alpha_m(u) + beta_m(u))\n",
    "def n_ss(u): return alpha_n(u) / (alpha_n(u) + beta_n(u))\n",
    "def h_ss(u): return alpha_h(u) / (alpha_h(u) + beta_h(u))"
   ]
  },
  {
   "cell_type": "markdown",
   "metadata": {},
   "source": [
    "## Hodgkin & Huxley Neuro Model\n",
    "implement a function that calculates the ionic current density i_ion, \n",
    "use the exponential-euler solver\n",
    "\n"
   ]
  },
  {
   "cell_type": "code",
   "execution_count": 9,
   "metadata": {},
   "outputs": [],
   "source": [
    "def dm_du(m, u): return alpha_m(u) * (1 - m) - beta_m(u) * m\n",
    "def dn_du(n, u): return alpha_n(u) * (1 - n) - beta_n(u) * n\n",
    "def dh_du(h, u): return alpha_h(u) * (1 - h) - beta_h(u) * h"
   ]
  },
  {
   "cell_type": "markdown",
   "metadata": {},
   "source": [
    "## Model"
   ]
  },
  {
   "cell_type": "code",
   "execution_count": 27,
   "metadata": {},
   "outputs": [],
   "source": [
    "def hh_current(M, N, H, u):\n",
    "    INa = g_Na * (M**3 * H) * (u - V_Na)  #sodium channel\n",
    "    IK  = g_K  * (N**4    ) * (u - V_K)   #potas\n",
    "    IL  = g_L               * (u - V_L)\n",
    "\n",
    "    return INa + IK + IL"
   ]
  },
  {
   "cell_type": "code",
   "execution_count": 48,
   "metadata": {},
   "outputs": [],
   "source": [
    "def hh_model_exp(temp, T, dt, I_stim):\n",
    "    t = np.linspace(0, T, int(T/dt))\n",
    "    M = np.zeros_like(t)\n",
    "    N = np.zeros_like(t)\n",
    "    H = np.zeros_like(t)\n",
    "    U = np.zeros_like(t)\n",
    "        \n",
    "    M[0], N[0], H[0] = m_ss(0), n_ss(0), h_ss(0)\n",
    "    k = temp_corr(temp)\n",
    "    \n",
    "    for n in range(0, len(I)-1):\n",
    "        u = U[n]\n",
    "        A_m = -1 * k * (alpha_m(u) + beta_m(u))\n",
    "        A_n = -1 * k * (alpha_n(u) + beta_n(u))\n",
    "        A_h = -1 * k * (alpha_h(u) + beta_h(u))\n",
    "        B_m = k * alpha_m(u)\n",
    "        B_n = k * alpha_n(u)\n",
    "        B_h = k * alpha_h(u)\n",
    "      \n",
    "        M[n+1] = M[n] * np.exp(A_m * dt) + B_m/A_m * (np.exp(A_m * dt)-1)\n",
    "        N[n+1] = N[n] * np.exp(A_n * dt) + B_n/A_n * (np.exp(A_n * dt)-1)\n",
    "        H[n+1] = H[n] * np.exp(A_h * dt) + B_h/A_h * (np.exp(A_h * dt)-1)\n",
    "        \n",
    "        I_ion = hh_current(M[n+1], N[n+1], H[n+1], u)\n",
    "        U[n+1] = U[n] - 1/C_m * (I_ion - I_stim[n]) * dt\n",
    "    return U, M, N, H"
   ]
  },
  {
   "cell_type": "markdown",
   "metadata": {},
   "source": [
    "## Multicompartment Model Adaptation "
   ]
  },
  {
   "cell_type": "markdown",
   "metadata": {},
   "source": [
    "### Connectivity Matrix"
   ]
  },
  {
   "cell_type": "code",
   "execution_count": 62,
   "metadata": {},
   "outputs": [
    {
     "data": {
      "text/plain": [
       "array([[-1.,  1.,  0., ...,  0.,  0.,  0.],\n",
       "       [ 1., -2.,  1., ...,  0.,  0.,  0.],\n",
       "       [ 0.,  1., -2., ...,  0.,  0.,  0.],\n",
       "       ...,\n",
       "       [ 0.,  0.,  0., ..., -2.,  1.,  0.],\n",
       "       [ 0.,  0.,  0., ...,  1., -2.,  1.],\n",
       "       [ 0.,  0.,  0., ...,  0.,  1., -1.]])"
      ]
     },
     "execution_count": 62,
     "metadata": {},
     "output_type": "execute_result"
    }
   ],
   "source": [
    "C = np.identity(100)\n",
    "np.fill_diagonal(C, -2)\n",
    "C[0][0] = -1\n",
    "C[-1][-1] = -1\n",
    "\n",
    "for i in range(0,100):\n",
    "    for j in range(0,100):\n",
    "        if i==j+1:\n",
    "            C[i][j] = 1\n",
    "        if i==j-1:\n",
    "            C[i][j] = 1"
   ]
  },
  {
   "cell_type": "code",
   "execution_count": 92,
   "metadata": {},
   "outputs": [],
   "source": [
    "def hh_model_exp_multi(num, temp, T, dt, I_stim):\n",
    "    l = int(T/dt)\n",
    "    M = np.zeros((num,l))\n",
    "    N = np.zeros((num,l))\n",
    "    H = np.zeros((num,l))\n",
    "    U = np.zeros((num,l))\n",
    "\n",
    "    M[:,0] = np.ones(num) * m_ss(0)\n",
    "    N[:,0] = np.ones(num) * n_ss(0)\n",
    "    H[:,0] = np.ones(num) * h_ss(0)\n",
    "    k = temp_corr(temp)\n",
    "\n",
    "    for n in range(0, num-1):\n",
    "        for t in range(0, len(I)-1):\n",
    "            u = U[n][t]\n",
    "            A_m = -1 * k * (alpha_m(u) + beta_m(u))\n",
    "            A_n = -1 * k * (alpha_n(u) + beta_n(u))\n",
    "            A_h = -1 * k * (alpha_h(u) + beta_h(u))\n",
    "            B_m = k * alpha_m(u)\n",
    "            B_n = k * alpha_n(u)\n",
    "            B_h = k * alpha_h(u)\n",
    "\n",
    "            M[n][t+1] = M[n][t] * np.exp(A_m * dt) + B_m/A_m * (np.exp(A_m * dt)-1)\n",
    "            N[n][t+1] = N[n][t] * np.exp(A_n * dt) + B_n/A_n * (np.exp(A_n * dt)-1)\n",
    "            H[n][t+1] = H[n][t] * np.exp(A_h * dt) + B_h/A_h * (np.exp(A_h * dt)-1)\n",
    "\n",
    "            I_ion = hh_current(M[n][t+1], N[n][t+1], H[t+1], u)\n",
    "            print(M)\n",
    "\n",
    "            U[n][t+1] = U[n][t] - 1/C_m * (I_ion - I_stim[n][t]) * dt + 1/(C_m * Ra) * C * U[n][t] * dt\n",
    "\n",
    "    return U\n"
   ]
  },
  {
   "cell_type": "code",
   "execution_count": 99,
   "metadata": {},
   "outputs": [],
   "source": [
    "def hh_model_exp_multi(num, temp, T, dt, I_stim):\n",
    "    l = int(T/dt)\n",
    "    M = np.zeros((num,l))\n",
    "    N = np.zeros((num,l))\n",
    "    H = np.zeros((num,l))\n",
    "    U = np.zeros((num,l))\n",
    "\n",
    "    M[:,0] = np.ones(num) * m_ss(0)\n",
    "    N[:,0] = np.ones(num) * n_ss(0)\n",
    "    H[:,0] = np.ones(num) * h_ss(0)\n",
    "    k = temp_corr(temp)\n",
    "\n",
    "    for t in range(0, len(I)-1):\n",
    "        u = U[:][t]\n",
    "        A_m = -1 * k * (alpha_m(u) + beta_m(u))\n",
    "        A_n = -1 * k * (alpha_n(u) + beta_n(u))\n",
    "        A_h = -1 * k * (alpha_h(u) + beta_h(u))\n",
    "        B_m = k * alpha_m(u)\n",
    "        B_n = k * alpha_n(u)\n",
    "        B_h = k * alpha_h(u)\n",
    "\n",
    "        M[:][t+1] = M[:][t] * np.exp(A_m * dt) + B_m/A_m * (np.exp(A_m * dt)-1)\n",
    "        N[:][t+1] = N[:][t] * np.exp(A_n * dt) + B_n/A_n * (np.exp(A_n * dt)-1)\n",
    "        H[:][t+1] = H[:][t] * np.exp(A_h * dt) + B_h/A_h * (np.exp(A_h * dt)-1)\n",
    "\n",
    "        I_ion = hh_current(M[:][t+1], N[:][t+1], H[:][t+1], u)\n",
    "        \n",
    "        U[:][t+1] = U[:][t] - 1/C_m * (I_ion - I_stim[:][t]) * dt + 1/(C_m * Ra) * C * U[:][t] * dt\n",
    "\n",
    "    return U\n",
    "\n",
    "# fix the dimensions\n"
   ]
  },
  {
   "cell_type": "code",
   "execution_count": 100,
   "metadata": {},
   "outputs": [
    {
     "ename": "ValueError",
     "evalue": "operands could not be broadcast together with shapes (100,100) (10000,) ",
     "output_type": "error",
     "traceback": [
      "\u001b[0;31m---------------------------------------------------------------------------\u001b[0m",
      "\u001b[0;31mValueError\u001b[0m                                Traceback (most recent call last)",
      "\u001b[0;32m<ipython-input-100-9e6ea99950cc>\u001b[0m in \u001b[0;36m<module>\u001b[0;34m()\u001b[0m\n\u001b[1;32m      6\u001b[0m \u001b[0mI\u001b[0m \u001b[0;34m=\u001b[0m \u001b[0mnp\u001b[0m\u001b[0;34m.\u001b[0m\u001b[0mzeros\u001b[0m\u001b[0;34m(\u001b[0m\u001b[0;34m(\u001b[0m\u001b[0mn\u001b[0m\u001b[0;34m,\u001b[0m \u001b[0ml\u001b[0m\u001b[0;34m)\u001b[0m\u001b[0;34m)\u001b[0m\u001b[0;34m\u001b[0m\u001b[0m\n\u001b[1;32m      7\u001b[0m \u001b[0mI\u001b[0m\u001b[0;34m[\u001b[0m\u001b[0;34m:\u001b[0m\u001b[0;34m,\u001b[0m\u001b[0;36m0\u001b[0m\u001b[0;34m]\u001b[0m \u001b[0;34m=\u001b[0m \u001b[0mnp\u001b[0m\u001b[0;34m.\u001b[0m\u001b[0mones\u001b[0m\u001b[0;34m(\u001b[0m\u001b[0mn\u001b[0m\u001b[0;34m)\u001b[0m\u001b[0;34m\u001b[0m\u001b[0m\n\u001b[0;32m----> 8\u001b[0;31m \u001b[0mU\u001b[0m\u001b[0;34m,\u001b[0m \u001b[0mM\u001b[0m\u001b[0;34m,\u001b[0m \u001b[0mN\u001b[0m\u001b[0;34m,\u001b[0m \u001b[0mH\u001b[0m \u001b[0;34m=\u001b[0m \u001b[0mhh_model_exp_multi\u001b[0m\u001b[0;34m(\u001b[0m\u001b[0mN\u001b[0m\u001b[0;34m,\u001b[0m \u001b[0;36m6.3\u001b[0m\u001b[0;34m,\u001b[0m \u001b[0mT\u001b[0m\u001b[0;34m,\u001b[0m \u001b[0mdt\u001b[0m\u001b[0;34m,\u001b[0m \u001b[0mI\u001b[0m\u001b[0;34m)\u001b[0m\u001b[0;34m\u001b[0m\u001b[0m\n\u001b[0m",
      "\u001b[0;32m<ipython-input-99-21e56884f461>\u001b[0m in \u001b[0;36mhh_model_exp_multi\u001b[0;34m(num, temp, T, dt, I_stim)\u001b[0m\n\u001b[1;32m     26\u001b[0m         \u001b[0mI_ion\u001b[0m \u001b[0;34m=\u001b[0m \u001b[0mhh_current\u001b[0m\u001b[0;34m(\u001b[0m\u001b[0mM\u001b[0m\u001b[0;34m[\u001b[0m\u001b[0;34m:\u001b[0m\u001b[0;34m]\u001b[0m\u001b[0;34m[\u001b[0m\u001b[0mt\u001b[0m\u001b[0;34m+\u001b[0m\u001b[0;36m1\u001b[0m\u001b[0;34m]\u001b[0m\u001b[0;34m,\u001b[0m \u001b[0mN\u001b[0m\u001b[0;34m[\u001b[0m\u001b[0;34m:\u001b[0m\u001b[0;34m]\u001b[0m\u001b[0;34m[\u001b[0m\u001b[0mt\u001b[0m\u001b[0;34m+\u001b[0m\u001b[0;36m1\u001b[0m\u001b[0;34m]\u001b[0m\u001b[0;34m,\u001b[0m \u001b[0mH\u001b[0m\u001b[0;34m[\u001b[0m\u001b[0;34m:\u001b[0m\u001b[0;34m]\u001b[0m\u001b[0;34m[\u001b[0m\u001b[0mt\u001b[0m\u001b[0;34m+\u001b[0m\u001b[0;36m1\u001b[0m\u001b[0;34m]\u001b[0m\u001b[0;34m,\u001b[0m \u001b[0mu\u001b[0m\u001b[0;34m)\u001b[0m\u001b[0;34m\u001b[0m\u001b[0m\n\u001b[1;32m     27\u001b[0m \u001b[0;34m\u001b[0m\u001b[0m\n\u001b[0;32m---> 28\u001b[0;31m         \u001b[0mU\u001b[0m\u001b[0;34m[\u001b[0m\u001b[0;34m:\u001b[0m\u001b[0;34m]\u001b[0m\u001b[0;34m[\u001b[0m\u001b[0mt\u001b[0m\u001b[0;34m+\u001b[0m\u001b[0;36m1\u001b[0m\u001b[0;34m]\u001b[0m \u001b[0;34m=\u001b[0m \u001b[0mU\u001b[0m\u001b[0;34m[\u001b[0m\u001b[0;34m:\u001b[0m\u001b[0;34m]\u001b[0m\u001b[0;34m[\u001b[0m\u001b[0mt\u001b[0m\u001b[0;34m]\u001b[0m \u001b[0;34m-\u001b[0m \u001b[0;36m1\u001b[0m\u001b[0;34m/\u001b[0m\u001b[0mC_m\u001b[0m \u001b[0;34m*\u001b[0m \u001b[0;34m(\u001b[0m\u001b[0mI_ion\u001b[0m \u001b[0;34m-\u001b[0m \u001b[0mI_stim\u001b[0m\u001b[0;34m[\u001b[0m\u001b[0;34m:\u001b[0m\u001b[0;34m]\u001b[0m\u001b[0;34m[\u001b[0m\u001b[0mt\u001b[0m\u001b[0;34m]\u001b[0m\u001b[0;34m)\u001b[0m \u001b[0;34m*\u001b[0m \u001b[0mdt\u001b[0m \u001b[0;34m+\u001b[0m \u001b[0;36m1\u001b[0m\u001b[0;34m/\u001b[0m\u001b[0;34m(\u001b[0m\u001b[0mC_m\u001b[0m \u001b[0;34m*\u001b[0m \u001b[0mRa\u001b[0m\u001b[0;34m)\u001b[0m \u001b[0;34m*\u001b[0m \u001b[0mC\u001b[0m \u001b[0;34m*\u001b[0m \u001b[0mU\u001b[0m\u001b[0;34m[\u001b[0m\u001b[0;34m:\u001b[0m\u001b[0;34m]\u001b[0m\u001b[0;34m[\u001b[0m\u001b[0mt\u001b[0m\u001b[0;34m]\u001b[0m \u001b[0;34m*\u001b[0m \u001b[0mdt\u001b[0m\u001b[0;34m\u001b[0m\u001b[0m\n\u001b[0m\u001b[1;32m     29\u001b[0m \u001b[0;34m\u001b[0m\u001b[0m\n\u001b[1;32m     30\u001b[0m     \u001b[0;32mreturn\u001b[0m \u001b[0mU\u001b[0m\u001b[0;34m\u001b[0m\u001b[0m\n",
      "\u001b[0;31mValueError\u001b[0m: operands could not be broadcast together with shapes (100,100) (10000,) "
     ]
    }
   ],
   "source": [
    "T = 100\n",
    "dt = 0.01\n",
    "N = 100\n",
    "l = int(T/dt)\n",
    "\n",
    "I = np.zeros((n, l))\n",
    "I[:,0] = np.ones(n)\n",
    "U, M, N, H = hh_model_exp_multi(N, 6.3, T, dt, I)\n"
   ]
  }
 ],
 "metadata": {
  "kernelspec": {
   "display_name": "Python 3",
   "language": "python",
   "name": "python3"
  },
  "language_info": {
   "codemirror_mode": {
    "name": "ipython",
    "version": 3
   },
   "file_extension": ".py",
   "mimetype": "text/x-python",
   "name": "python",
   "nbconvert_exporter": "python",
   "pygments_lexer": "ipython3",
   "version": "3.6.5"
  }
 },
 "nbformat": 4,
 "nbformat_minor": 2
}
